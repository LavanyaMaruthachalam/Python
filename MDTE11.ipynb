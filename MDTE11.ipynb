{
  "nbformat": 4,
  "nbformat_minor": 0,
  "metadata": {
    "colab": {
      "provenance": [],
      "authorship_tag": "ABX9TyN7dJ9CHGhKDuSPMDfi0NCy",
      "include_colab_link": true
    },
    "kernelspec": {
      "name": "python3",
      "display_name": "Python 3"
    },
    "language_info": {
      "name": "python"
    }
  },
  "cells": [
    {
      "cell_type": "markdown",
      "metadata": {
        "id": "view-in-github",
        "colab_type": "text"
      },
      "source": [
        "<a href=\"https://colab.research.google.com/github/LavanyaMaruthachalam/Python/blob/main/MDTE11.ipynb\" target=\"_parent\"><img src=\"https://colab.research.google.com/assets/colab-badge.svg\" alt=\"Open In Colab\"/></a>"
      ]
    },
    {
      "cell_type": "markdown",
      "source": [],
      "metadata": {
        "id": "BcaJJaHzr2JF"
      }
    },
    {
      "cell_type": "markdown",
      "source": [
        "@ 6/1/2025 10pm"
      ],
      "metadata": {
        "id": "nedZoNPzpBgR"
      }
    },
    {
      "cell_type": "code",
      "source": [
        "print (\"1+1\")"
      ],
      "metadata": {
        "colab": {
          "base_uri": "https://localhost:8080/"
        },
        "id": "Qc6eEpK9Fgn5",
        "outputId": "d7445968-276f-4ea0-f13c-5541a491e508"
      },
      "execution_count": null,
      "outputs": [
        {
          "output_type": "stream",
          "name": "stdout",
          "text": [
            "1+1\n"
          ]
        }
      ]
    },
    {
      "cell_type": "code",
      "source": [
        "print (11 ** 2)"
      ],
      "metadata": {
        "colab": {
          "base_uri": "https://localhost:8080/"
        },
        "id": "jTv41xS4UyeB",
        "outputId": "f5666225-ea19-4dd9-8313-82248a36aefb"
      },
      "execution_count": null,
      "outputs": [
        {
          "output_type": "stream",
          "name": "stdout",
          "text": [
            "121\n"
          ]
        }
      ]
    },
    {
      "cell_type": "code",
      "execution_count": null,
      "metadata": {
        "colab": {
          "base_uri": "https://localhost:8080/"
        },
        "id": "y9wOBcMwSQtc",
        "outputId": "f3702fd7-32fc-4db5-d7df-2e582dc06cee"
      },
      "outputs": [
        {
          "output_type": "stream",
          "name": "stdout",
          "text": [
            "1+1\n"
          ]
        }
      ],
      "source": [
        "print(\"1+1\")"
      ]
    },
    {
      "cell_type": "code",
      "source": [
        "print(input(\"enter your name : \"))"
      ],
      "metadata": {
        "colab": {
          "base_uri": "https://localhost:8080/"
        },
        "id": "SCtwVLHvGy97",
        "outputId": "282517b3-c278-4c1a-b9aa-f7245412c1ea"
      },
      "execution_count": null,
      "outputs": [
        {
          "output_type": "stream",
          "name": "stdout",
          "text": [
            "enter your name lavannya\n",
            "lavannya\n"
          ]
        }
      ]
    },
    {
      "cell_type": "code",
      "source": [
        "print (input(\"enter your otp : \"))"
      ],
      "metadata": {
        "colab": {
          "base_uri": "https://localhost:8080/"
        },
        "id": "abuKDEAmHF3J",
        "outputId": "5ef24980-80d2-4b8d-8f6c-0b540df9ec7e"
      },
      "execution_count": null,
      "outputs": [
        {
          "output_type": "stream",
          "name": "stdout",
          "text": [
            "enter your otp : 23\n",
            "23\n"
          ]
        }
      ]
    },
    {
      "cell_type": "code",
      "source": [
        "print (input(\"enter your otp : \") + \"Valid\")"
      ],
      "metadata": {
        "colab": {
          "base_uri": "https://localhost:8080/"
        },
        "id": "5a-ocDUaHXZz",
        "outputId": "43408438-95a7-49e2-ca66-9a6822d02881"
      },
      "execution_count": null,
      "outputs": [
        {
          "output_type": "stream",
          "name": "stdout",
          "text": [
            "enter your otp : 15\n",
            "15Valid\n"
          ]
        }
      ]
    },
    {
      "cell_type": "code",
      "source": [
        "print(input (\"enter your name : \") + \" hi\")\n"
      ],
      "metadata": {
        "colab": {
          "base_uri": "https://localhost:8080/"
        },
        "id": "IRBpW3ihUKhj",
        "outputId": "9c122d90-d84d-482e-ec67-bf22c2547745"
      },
      "execution_count": null,
      "outputs": [
        {
          "output_type": "stream",
          "name": "stdout",
          "text": [
            "enter your name : Lavanya\n",
            "Lavanya hi\n"
          ]
        }
      ]
    },
    {
      "cell_type": "code",
      "source": [
        "nirmal = input(\"enter your company \")\n",
        "\n",
        "print(\"hi \" + nirmal)"
      ],
      "metadata": {
        "colab": {
          "base_uri": "https://localhost:8080/"
        },
        "id": "0W6h_DA2URR0",
        "outputId": "e2a27a31-b756-4cf6-bcf5-ee6506636c2c"
      },
      "execution_count": null,
      "outputs": [
        {
          "output_type": "stream",
          "name": "stdout",
          "text": [
            "enter your company lavanya\n",
            "hi lavanya\n"
          ]
        }
      ]
    },
    {
      "cell_type": "code",
      "source": [
        "print(r\"\\n this is the first session\") #-> raw string\n",
        "\n",
        "print(f\"\\n this is the first session\") #-> formatted string\n",
        "\n",
        "print(f\"\\t this is the first session\") #-> tab created\n"
      ],
      "metadata": {
        "colab": {
          "base_uri": "https://localhost:8080/"
        },
        "id": "1PTMR2g_Ucj0",
        "outputId": "67c14f67-60a2-4238-913e-a01f350037b3"
      },
      "execution_count": 3,
      "outputs": [
        {
          "output_type": "stream",
          "name": "stdout",
          "text": [
            "\\n this is the first session\n",
            "\n",
            " this is the first session\n",
            "\t this is the first session\n"
          ]
        }
      ]
    },
    {
      "cell_type": "code",
      "source": [
        "a=\"guvi\"\n",
        "print(r\"\\n this is the first session {a}\") # print as it is\n",
        "\n",
        "print(f\"\\n this is the first session {a}\") #formatted the string"
      ],
      "metadata": {
        "colab": {
          "base_uri": "https://localhost:8080/"
        },
        "id": "6khH7xghWLxC",
        "outputId": "279f5ff6-ee82-419e-ffca-c53875a9bef8"
      },
      "execution_count": null,
      "outputs": [
        {
          "output_type": "stream",
          "name": "stdout",
          "text": [
            "\\n this is the first session {a}\n",
            "\n",
            " this is the first session guvi\n"
          ]
        }
      ]
    },
    {
      "cell_type": "code",
      "source": [
        "a = 1 #int\n",
        "b = 2.345 #float\n",
        "c = \"nj1122, 1.3,edbnk\" #str\n",
        "d =  True # boolean\n",
        "e = False # boolean\n",
        "f = None# None Type\n",
        "g = [ 2,22,2.2, 3.32,\"jk\", [1,2,3]] #-->list ----heterogenous----mutable\n",
        "\n",
        "\n",
        "g[0]= \"nirmal\"\n",
        "print (g)\n",
        "\n",
        "h = (1, 2,2.23, \"nfjfj\",[1,2,3]) # -->tuple ------homogenous-----immutable\n",
        "print(h)\n",
        "\n",
        "i={\"1\", 2,1,2}# ---->set\n",
        "print(i)\n",
        "\n",
        "j= {\"name\": [\"niramal\",\"netaji\"], \"state\":\"tamil nadu\", \"ph\":123,\"age\":100}#keys must be unique\n",
        "\n",
        "j[\"age1\"]=200\n",
        "print (j[\"name\"][0])\n",
        "\n",
        "print (g[4][1])\n",
        "\n",
        "print (g[5][1])"
      ],
      "metadata": {
        "colab": {
          "base_uri": "https://localhost:8080/"
        },
        "id": "RK8Vlfd8YPS9",
        "outputId": "23e7066b-40fc-4a40-ca25-64568d56a1aa"
      },
      "execution_count": null,
      "outputs": [
        {
          "output_type": "stream",
          "name": "stdout",
          "text": [
            "['nirmal', 22, 2.2, 3.32, 'jk', [1, 2, 3]]\n",
            "(1, 2, 2.23, 'nfjfj', [1, 2, 3])\n",
            "{1, 2, '1'}\n",
            "niramal\n",
            "k\n",
            "2\n"
          ]
        }
      ]
    },
    {
      "cell_type": "code",
      "source": [
        "print (20+21)\n",
        "print(20-21)\n",
        "print(20*21)\n",
        "print(20/21)\n",
        "\n",
        "\n",
        "print(20//3)\n",
        "print(20%2)\n",
        "print(20**2)"
      ],
      "metadata": {
        "colab": {
          "base_uri": "https://localhost:8080/"
        },
        "id": "ekbGS8dCZepu",
        "outputId": "1293250d-4e66-4290-fca8-eeb8a6a72227"
      },
      "execution_count": null,
      "outputs": [
        {
          "output_type": "stream",
          "name": "stdout",
          "text": [
            "41\n",
            "-1\n",
            "420\n",
            "0.9523809523809523\n",
            "6\n",
            "0\n",
            "400\n"
          ]
        }
      ]
    },
    {
      "cell_type": "code",
      "source": [
        "#comparison operators\n",
        "\n",
        "print(20>21)\n",
        "print(20<21)\n",
        "print(20>=21)\n",
        "print(20<=21)\n",
        "\n",
        "\n",
        "print(20==21)\n",
        "print(20!=21)"
      ],
      "metadata": {
        "colab": {
          "base_uri": "https://localhost:8080/"
        },
        "id": "6Ygh_0PJbN_N",
        "outputId": "1c5550a4-37f8-4812-c861-6c4affe7f4a2"
      },
      "execution_count": null,
      "outputs": [
        {
          "output_type": "stream",
          "name": "stdout",
          "text": [
            "False\n",
            "True\n",
            "False\n",
            "True\n",
            "False\n",
            "True\n"
          ]
        }
      ]
    },
    {
      "cell_type": "code",
      "source": [
        "print(\"nirmal\"==\"nirmal\")"
      ],
      "metadata": {
        "colab": {
          "base_uri": "https://localhost:8080/"
        },
        "id": "sGtTx56KcLr1",
        "outputId": "0f69cb21-7603-401c-b992-12edd3abdbc4"
      },
      "execution_count": null,
      "outputs": [
        {
          "output_type": "stream",
          "name": "stdout",
          "text": [
            "True\n"
          ]
        }
      ]
    },
    {
      "cell_type": "code",
      "source": [
        "print(True or False)\n",
        "print(1 or 0)\n",
        "print (1 and 0)\n",
        "print(True and False)\n",
        "print (\"NIRMAL\" or \"guvi\")\n",
        "print (\"NIRMAL\" and \"guvi\")"
      ],
      "metadata": {
        "colab": {
          "base_uri": "https://localhost:8080/"
        },
        "id": "Ur1_FDxCocj8",
        "outputId": "729e9b07-495e-4c22-fa7c-74821302083a"
      },
      "execution_count": null,
      "outputs": [
        {
          "output_type": "stream",
          "name": "stdout",
          "text": [
            "True\n",
            "1\n",
            "0\n",
            "False\n",
            "NIRMAL\n",
            "guvi\n"
          ]
        }
      ]
    },
    {
      "cell_type": "code",
      "source": [
        "if 1>2:\n",
        "  print(\"hi\")\n",
        "else:\n",
        "  print(\"bye\")"
      ],
      "metadata": {
        "colab": {
          "base_uri": "https://localhost:8080/"
        },
        "id": "JZB59ZJI3ITD",
        "outputId": "06a9ae87-0e65-4d0b-f964-df2b44d6d0d3"
      },
      "execution_count": null,
      "outputs": [
        {
          "output_type": "stream",
          "name": "stdout",
          "text": [
            "bye\n"
          ]
        }
      ]
    },
    {
      "cell_type": "code",
      "source": [
        "pin = input(\"Enter pin \")\n",
        "if pin ==\"0818\":\n",
        "  print(\"Welcome\")\n",
        "else:\n",
        "  print(\"invalid pin\")"
      ],
      "metadata": {
        "colab": {
          "base_uri": "https://localhost:8080/"
        },
        "id": "9aCdb5fw3lX_",
        "outputId": "430d0393-0921-48b1-d832-e0beb33feee4"
      },
      "execution_count": null,
      "outputs": [
        {
          "output_type": "stream",
          "name": "stdout",
          "text": [
            "Enter pin 00\n",
            "invalid pin\n"
          ]
        }
      ]
    },
    {
      "cell_type": "code",
      "source": [
        "card = input(\"enter your card number: \")\n",
        "balance=10000\n",
        "if card ==\"11111\":\n",
        "  print(\"valid card\")\n",
        "  pin = input(\"enter your pin: \")\n",
        "  if pin ==\"0818\":\n",
        "    print(\"valid card\")\n",
        "    ops=input(\"Enter D for deposit and W for withdraw: \")\n",
        "    if ops == \"D\" or ops==\"d\":\n",
        "      amount= int(input(\"enter amount: \"))\n",
        "      balance = balance + amount\n",
        "      print(\"your balance is \", balance)\n",
        "    elif ops ==\"W\" or ops==\"w\":\n",
        "      amount = int(input(\"enter amount: \"))\n",
        "      if amount > balance or amount < 0 :\n",
        "        print (\"Insufficient balance\")\n",
        "      else:\n",
        "        balance = balance - amount\n",
        "        print(\"your balance is \", balance)\n",
        "    else:\n",
        "      print (\"Invalid Input:\")\n",
        "  else :\n",
        "     print(\"invalid pin\")\n",
        "else:\n",
        "  print(\"invalid card\")"
      ],
      "metadata": {
        "colab": {
          "base_uri": "https://localhost:8080/"
        },
        "id": "fl3QQ9JI4snK",
        "outputId": "c86f56ec-dafc-4015-fa33-f5c1f2a6536f"
      },
      "execution_count": null,
      "outputs": [
        {
          "output_type": "stream",
          "name": "stdout",
          "text": [
            "enter your card number: 11111\n",
            "valid card\n",
            "enter your pin: 0818\n",
            "valid card\n",
            "Enter D for deposit and W for withdraw: w\n",
            "enter amount: 10\n",
            "your balance is  9990\n"
          ]
        }
      ]
    },
    {
      "cell_type": "code",
      "source": [
        "for iterate in \"lavanya\":\n",
        "  print(iterate)"
      ],
      "metadata": {
        "colab": {
          "base_uri": "https://localhost:8080/"
        },
        "id": "lbK9j3aL3ohH",
        "outputId": "a7889298-e522-48bc-a908-4adee4f7c697"
      },
      "execution_count": null,
      "outputs": [
        {
          "output_type": "stream",
          "name": "stdout",
          "text": [
            "l\n",
            "a\n",
            "v\n",
            "a\n",
            "n\n",
            "y\n",
            "a\n"
          ]
        }
      ]
    },
    {
      "cell_type": "code",
      "source": [
        "for i in \"lavanya\":\n",
        "  print(i.upper())\n"
      ],
      "metadata": {
        "colab": {
          "base_uri": "https://localhost:8080/"
        },
        "id": "C7vi59Ds38vs",
        "outputId": "2ebf0763-2d7e-4091-d0a6-261f803da678"
      },
      "execution_count": null,
      "outputs": [
        {
          "output_type": "stream",
          "name": "stdout",
          "text": [
            "L\n",
            "A\n",
            "V\n",
            "A\n",
            "N\n",
            "Y\n",
            "A\n"
          ]
        }
      ]
    },
    {
      "cell_type": "code",
      "source": [
        "box=\"\"\n",
        "for i in \"lavanya\":\n",
        "  box=(box+i.lower())\n",
        "print(box)"
      ],
      "metadata": {
        "colab": {
          "base_uri": "https://localhost:8080/"
        },
        "id": "mZi493lu4bQb",
        "outputId": "4b3512b1-1d75-4f4e-ba3a-bc50508e9adb"
      },
      "execution_count": null,
      "outputs": [
        {
          "output_type": "stream",
          "name": "stdout",
          "text": [
            "lavanya\n"
          ]
        }
      ]
    },
    {
      "cell_type": "code",
      "source": [
        "box=\"\"\n",
        "for i in \"lavanya\":\n",
        "  box=(box+i.lower())\n",
        "print(box)"
      ],
      "metadata": {
        "colab": {
          "base_uri": "https://localhost:8080/"
        },
        "id": "8O7VLGat74Vj",
        "outputId": "d1b518bd-d468-45b4-e3c2-6b2431cd4e49"
      },
      "execution_count": null,
      "outputs": [
        {
          "output_type": "stream",
          "name": "stdout",
          "text": [
            "lavanya\n"
          ]
        }
      ]
    },
    {
      "cell_type": "code",
      "source": [
        "for i in range(10):\n",
        "  print(i)"
      ],
      "metadata": {
        "colab": {
          "base_uri": "https://localhost:8080/"
        },
        "id": "71xIrwqdKpZP",
        "outputId": "82166a6f-c6cb-4ec6-bcc2-2b7604287836"
      },
      "execution_count": null,
      "outputs": [
        {
          "output_type": "stream",
          "name": "stdout",
          "text": [
            "0\n",
            "1\n",
            "2\n",
            "3\n",
            "4\n",
            "5\n",
            "6\n",
            "7\n",
            "8\n",
            "9\n"
          ]
        }
      ]
    },
    {
      "cell_type": "code",
      "source": [
        "for i in range(3,10):\n",
        "  print(i)"
      ],
      "metadata": {
        "colab": {
          "base_uri": "https://localhost:8080/"
        },
        "id": "K5GOw4jDLAtt",
        "outputId": "045ab5e0-4c91-4cee-842d-f321db6b8cd9"
      },
      "execution_count": null,
      "outputs": [
        {
          "output_type": "stream",
          "name": "stdout",
          "text": [
            "3\n",
            "4\n",
            "5\n",
            "6\n",
            "7\n",
            "8\n",
            "9\n"
          ]
        }
      ]
    },
    {
      "cell_type": "code",
      "source": [
        "for i in range(3,10,2):\n",
        "  print(i)"
      ],
      "metadata": {
        "colab": {
          "base_uri": "https://localhost:8080/"
        },
        "id": "1Bkf0lOQLExj",
        "outputId": "87b5db81-9fad-4a1e-edc3-55f6fbaf95e0"
      },
      "execution_count": null,
      "outputs": [
        {
          "output_type": "stream",
          "name": "stdout",
          "text": [
            "3\n",
            "5\n",
            "7\n",
            "9\n"
          ]
        }
      ]
    },
    {
      "cell_type": "code",
      "source": [
        "for i in range(10,3,-1):\n",
        "  print(i)"
      ],
      "metadata": {
        "colab": {
          "base_uri": "https://localhost:8080/"
        },
        "id": "O-3HiX8dLLNL",
        "outputId": "061a55a9-f403-40c6-ecd0-c7761abb75a7"
      },
      "execution_count": null,
      "outputs": [
        {
          "output_type": "stream",
          "name": "stdout",
          "text": [
            "10\n",
            "9\n",
            "8\n",
            "7\n",
            "6\n",
            "5\n",
            "4\n"
          ]
        }
      ]
    },
    {
      "cell_type": "code",
      "source": [
        "for i in {\"lavanya\", \"Mano\", \"Bala\"}:    #[],{},()\n",
        "  print(i.upper())\n"
      ],
      "metadata": {
        "colab": {
          "base_uri": "https://localhost:8080/"
        },
        "id": "YiLI_OzVLfOr",
        "outputId": "824cd671-089f-4db3-b358-6e54e1e8c08c"
      },
      "execution_count": null,
      "outputs": [
        {
          "output_type": "stream",
          "name": "stdout",
          "text": [
            "LAVANYA\n",
            "BALA\n",
            "MANO\n"
          ]
        }
      ]
    },
    {
      "cell_type": "code",
      "source": [
        "for x in {\"name\": [\"niramal\",\"netaji\"], \"state\":\"tamil nadu\", \"ph\":123,\"age\":100}:\n",
        "  print(x)\n",
        "\n"
      ],
      "metadata": {
        "colab": {
          "base_uri": "https://localhost:8080/"
        },
        "id": "mU7GM3NvMNU9",
        "outputId": "59139f18-c638-469b-dd4c-61c80d3a5d48"
      },
      "execution_count": null,
      "outputs": [
        {
          "output_type": "stream",
          "name": "stdout",
          "text": [
            "name\n",
            "state\n",
            "ph\n",
            "age\n"
          ]
        }
      ]
    },
    {
      "cell_type": "code",
      "source": [
        "for x in {\"name\": [\"niramal\",\"netaji\"], \"state\":\"tamil nadu\", \"ph\":123,\"age\":100}:\n",
        "  print(x)"
      ],
      "metadata": {
        "colab": {
          "base_uri": "https://localhost:8080/",
          "height": 106
        },
        "id": "7Kz12bhSMgCC",
        "outputId": "b9189d19-37e5-4cc3-9b67-38a5e654af6c"
      },
      "execution_count": null,
      "outputs": [
        {
          "output_type": "error",
          "ename": "SyntaxError",
          "evalue": "cannot assign to function call (<ipython-input-14-709949656670>, line 1)",
          "traceback": [
            "\u001b[0;36m  File \u001b[0;32m\"<ipython-input-14-709949656670>\"\u001b[0;36m, line \u001b[0;32m1\u001b[0m\n\u001b[0;31m    for x.values() in {\"name\": [\"niramal\",\"netaji\"], \"state\":\"tamil nadu\", \"ph\":123,\"age\":100}:\u001b[0m\n\u001b[0m        ^\u001b[0m\n\u001b[0;31mSyntaxError\u001b[0m\u001b[0;31m:\u001b[0m cannot assign to function call\n"
          ]
        }
      ]
    },
    {
      "cell_type": "code",
      "source": [
        "a= {\"name\": [\"niramal\",\"netaji\"], \"state\":\"tamil nadu\", \"ph\":123,\"age\":100}\n",
        "b=a.keys()\n",
        "c=a.values()\n",
        "d=a.items()\n",
        "print(b)\n",
        "print(c)\n",
        "print(d)"
      ],
      "metadata": {
        "colab": {
          "base_uri": "https://localhost:8080/"
        },
        "id": "vFLgEGYRNHMi",
        "outputId": "a37039bc-069a-46cf-c6bc-8d89e8ce3f3f"
      },
      "execution_count": null,
      "outputs": [
        {
          "output_type": "stream",
          "name": "stdout",
          "text": [
            "dict_keys(['name', 'state', 'ph', 'age'])\n",
            "dict_values([['niramal', 'netaji'], 'tamil nadu', 123, 100])\n",
            "dict_items([('name', ['niramal', 'netaji']), ('state', 'tamil nadu'), ('ph', 123), ('age', 100)])\n"
          ]
        }
      ]
    },
    {
      "cell_type": "code",
      "source": [
        "for i in b:\n",
        "  print(i)\n",
        "for i in c:\n",
        "  print(i)\n",
        "for i in d:\n",
        "  print(i)\n"
      ],
      "metadata": {
        "colab": {
          "base_uri": "https://localhost:8080/"
        },
        "id": "o7P_1HnQNd_D",
        "outputId": "0ea46fd0-72c4-4cc8-ffc7-907f320355b9"
      },
      "execution_count": null,
      "outputs": [
        {
          "output_type": "stream",
          "name": "stdout",
          "text": [
            "name\n",
            "state\n",
            "ph\n",
            "age\n",
            "['niramal', 'netaji']\n",
            "tamil nadu\n",
            "123\n",
            "100\n",
            "('name', ['niramal', 'netaji'])\n",
            "('state', 'tamil nadu')\n",
            "('ph', 123)\n",
            "('age', 100)\n"
          ]
        }
      ]
    },
    {
      "cell_type": "code",
      "source": [
        "for i in a.keys():\n",
        "  print(i)\n",
        "for i in a.values():\n",
        "  print(i)\n",
        "for i in a.items():\n",
        "  print(i)"
      ],
      "metadata": {
        "colab": {
          "base_uri": "https://localhost:8080/"
        },
        "id": "0_LswzpdQAWj",
        "outputId": "ecc5b38c-8131-4b9b-879c-af42adca5c10"
      },
      "execution_count": null,
      "outputs": [
        {
          "output_type": "stream",
          "name": "stdout",
          "text": [
            "name\n",
            "state\n",
            "ph\n",
            "age\n",
            "['niramal', 'netaji']\n",
            "tamil nadu\n",
            "123\n",
            "100\n",
            "('name', ['niramal', 'netaji'])\n",
            "('state', 'tamil nadu')\n",
            "('ph', 123)\n",
            "('age', 100)\n"
          ]
        }
      ]
    },
    {
      "cell_type": "code",
      "source": [
        "a= {\"name\": [\"niramal\",\"netaji\"], \"state\":\"tamil nadu\", \"ph\":123,\"age\":100}\n",
        "for x,y in a.items():\n",
        "  print(x)\n"
      ],
      "metadata": {
        "colab": {
          "base_uri": "https://localhost:8080/"
        },
        "id": "EeQXYgeZQL3m",
        "outputId": "27526621-b895-436d-9988-ddaf4981a8e9"
      },
      "execution_count": null,
      "outputs": [
        {
          "output_type": "stream",
          "name": "stdout",
          "text": [
            "name\n",
            "state\n",
            "ph\n",
            "age\n"
          ]
        }
      ]
    },
    {
      "cell_type": "code",
      "source": [
        "x= a.items()\n",
        "print(*x)"
      ],
      "metadata": {
        "colab": {
          "base_uri": "https://localhost:8080/"
        },
        "id": "Hdgt_b2dSdrg",
        "outputId": "34853b6b-2b10-4c8d-e03f-195fee61f21b"
      },
      "execution_count": null,
      "outputs": [
        {
          "output_type": "stream",
          "name": "stdout",
          "text": [
            "('name', ['niramal', 'netaji']) ('state', 'tamil nadu') ('ph', 123) ('age', 100)\n"
          ]
        }
      ]
    },
    {
      "cell_type": "code",
      "source": [
        "a=[('name', ['niramal', 'netaji']), ('state', 'tamil nadu'), ('ph', 123), ('age', 100)]\n",
        "\n",
        "for x,y in a:\n",
        "  print(x)"
      ],
      "metadata": {
        "colab": {
          "base_uri": "https://localhost:8080/"
        },
        "id": "gjvVdkimRPal",
        "outputId": "b0fa02a7-beb5-49fc-91ef-b3ac747f218c"
      },
      "execution_count": null,
      "outputs": [
        {
          "output_type": "stream",
          "name": "stdout",
          "text": [
            "name\n",
            "state\n",
            "ph\n",
            "age\n"
          ]
        }
      ]
    }
  ]
}